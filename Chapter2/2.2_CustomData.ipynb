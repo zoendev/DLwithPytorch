{
 "cells": [
  {
   "cell_type": "markdown",
   "metadata": {},
   "source": [
    "파일 불러오기"
   ]
  },
  {
   "cell_type": "code",
   "execution_count": 4,
   "metadata": {},
   "outputs": [],
   "source": [
    "import pandas as pd\n",
    "import torch\n",
    "# data = pd.read_csv('-.csv')\n",
    "\n",
    "# x = torch.from_numpy(data['x'].values).unsqueeze(dim=1).float() # -> CSV 파일의 X 칼럼의 값을 넘파이 배열로 받아 Tensor()로 변경\n",
    "# y = torch.from_numpy(data['y'].values).unsqueeze(dim=1).float()"
   ]
  },
  {
   "cell_type": "markdown",
   "metadata": {},
   "source": [
    "커스텀 데이터셋 만들기"
   ]
  },
  {
   "cell_type": "code",
   "execution_count": 6,
   "metadata": {},
   "outputs": [],
   "source": [
    "class CustomDataset(torch.utils.data.Dataset):\n",
    "    def __init__(self):\n",
    "        # 필요한 변수를 선언하고, 데이터셋의 전처리를 해주는 함수\n",
    "        pass\n",
    "    def __len__(self):\n",
    "        # 데이터셋의 길이. 즉, 총 샘플의 수를 가져오는 함수\n",
    "        pass\n",
    "    def __getitem__(self, index):\n",
    "        # 데이터셋에서 특정 데이터를 가져오는 함수(index 번째 데이터를 반환하며, 이때 반환하는 값은 텐서의 형태를 취해야함)\n",
    "        pass"
   ]
  },
  {
   "cell_type": "code",
   "execution_count": 7,
   "metadata": {},
   "outputs": [],
   "source": [
    "import pandas as pd\n",
    "import torch\n",
    "from torch.utils.data import Dataset\n",
    "from torch.utils.data import DataLoader\n",
    "\n",
    "class CustomDataset(Dataset):\n",
    "    def __init__(self, csv_file):\n",
    "        self.label = pd.read_csv(csv_file)\n",
    "    def __len__(self):\n",
    "        return len(self.label)\n",
    "    def __getitem__(self, index): # -> 전체 x와 y 데이터 중에 해당 idx 번째에 데이터를 가져옴\n",
    "        sample = torch.tensor(self.label.iloc[index, 0:3]).int()\n",
    "        label = torch.tensor(self.label.iloc[index, 3]).int()\n",
    "        return sample, label\n",
    "\n",
    "# tensor_dataset = CustomDataset('-.csv')\n",
    "# dataset = DataLoader(tensor_dataset, batch_size=4, shuffle=True)"
   ]
  },
  {
   "cell_type": "code",
   "execution_count": null,
   "metadata": {},
   "outputs": [],
   "source": []
  }
 ],
 "metadata": {
  "kernelspec": {
   "display_name": "Python 3.7.11 ('gpu')",
   "language": "python",
   "name": "python3"
  },
  "language_info": {
   "codemirror_mode": {
    "name": "ipython",
    "version": 3
   },
   "file_extension": ".py",
   "mimetype": "text/x-python",
   "name": "python",
   "nbconvert_exporter": "python",
   "pygments_lexer": "ipython3",
   "version": "3.7.11"
  },
  "orig_nbformat": 4,
  "vscode": {
   "interpreter": {
    "hash": "a2aa423f0da82c4c226c8001efc90a1a4d5d6e75da80c549b014ebe191de8cfc"
   }
  }
 },
 "nbformat": 4,
 "nbformat_minor": 2
}
