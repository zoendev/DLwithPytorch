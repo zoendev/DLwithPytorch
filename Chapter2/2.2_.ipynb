{
 "cells": [
  {
   "cell_type": "markdown",
   "metadata": {},
   "source": [
    "텐서 생성 및 변환"
   ]
  },
  {
   "cell_type": "code",
   "execution_count": 3,
   "metadata": {},
   "outputs": [
    {
     "name": "stdout",
     "output_type": "stream",
     "text": [
      "tensor([[1, 2],\n",
      "        [3, 4]])\n",
      "tensor([[1, 2],\n",
      "        [3, 4]], device='cuda:0')\n",
      "tensor([[1., 2.],\n",
      "        [3., 4.]], dtype=torch.float64)\n"
     ]
    }
   ],
   "source": [
    "import torch\n",
    "print(torch.tensor([[1,2], [3,4]]))\n",
    "print(torch.tensor([[1,2], [3,4]], device='cuda:0'))\n",
    "print(torch.tensor([[1,2], [3,4]], dtype=torch.float64))"
   ]
  },
  {
   "cell_type": "markdown",
   "metadata": {},
   "source": [
    "텐서를 ndarray로 변환"
   ]
  },
  {
   "cell_type": "code",
   "execution_count": 7,
   "metadata": {},
   "outputs": [
    {
     "name": "stdout",
     "output_type": "stream",
     "text": [
      "[[1 2]\n",
      " [3 4]]\n",
      "[[1 2]\n",
      " [3 4]]\n"
     ]
    }
   ],
   "source": [
    "temp = torch.tensor([[1,2], [3,4]])\n",
    "print(temp.numpy())\n",
    "temp = torch.tensor([[1,2], [3,4]], device='cuda:0')\n",
    "print(temp.to('cpu').numpy()) # -> GPU상의 텐서를 CPU텐서로 변환한 후 ndarray로 변환해야함"
   ]
  },
  {
   "cell_type": "markdown",
   "metadata": {},
   "source": [
    "텐서의 인덱스 조작"
   ]
  },
  {
   "cell_type": "code",
   "execution_count": 8,
   "metadata": {},
   "outputs": [
    {
     "name": "stdout",
     "output_type": "stream",
     "text": [
      "tensor(1.) tensor(2.) tensor(7.)\n",
      "------------------------\n",
      "tensor([3., 4., 5.]) tensor([5., 6.])\n"
     ]
    }
   ],
   "source": [
    "temp = torch.FloatTensor([1,2,3,4,5,6,7])\n",
    "print(temp[0], temp[1], temp[-1]) # -> 인덱스로 접근\n",
    "print('------------------------')\n",
    "print(temp[2:5], temp[4:-1]) # -> 슬라이스로 접근"
   ]
  },
  {
   "cell_type": "markdown",
   "metadata": {},
   "source": [
    "텐서 연산 및 차원 조작"
   ]
  },
  {
   "cell_type": "code",
   "execution_count": 10,
   "metadata": {},
   "outputs": [
    {
     "name": "stdout",
     "output_type": "stream",
     "text": [
      "tensor([-2, -2, -3])\n",
      "tensor([4, 6, 9])\n"
     ]
    }
   ],
   "source": [
    "v = torch.tensor([1,2,3])\n",
    "w = torch.tensor([3,4,6])\n",
    "print(v - w) # -> 길이가 같은 벡터간 뺄셈\n",
    "print(v + w) # -> 길이가 같은 벡터간 덧셈"
   ]
  },
  {
   "cell_type": "code",
   "execution_count": 15,
   "metadata": {},
   "outputs": [
    {
     "name": "stdout",
     "output_type": "stream",
     "text": [
      "torch.Size([2, 2])\n",
      "------------------------\n",
      "tensor([[1],\n",
      "        [2],\n",
      "        [3],\n",
      "        [4]])\n",
      "------------------------\n",
      "tensor([1, 2, 3, 4])\n",
      "------------------------\n",
      "tensor([[1, 2, 3, 4]])\n",
      "------------------------\n",
      "tensor([[1],\n",
      "        [2],\n",
      "        [3],\n",
      "        [4]])\n"
     ]
    }
   ],
   "source": [
    "temp = torch.tensor([[1,2], [3,4]]) # -> 2x2 행렬 생성\n",
    "print(temp.shape)\n",
    "print('------------------------')\n",
    "print(temp.view(4, 1)) # -> 2x2 행렬을 4x1로 변형\n",
    "print('------------------------')\n",
    "print(temp.view(-1)) # -> 2x2 행렬을 1차원 벡터로 변형\n",
    "print('------------------------')\n",
    "print(temp.view(1, -1)) # -> -1은 (1, ?)와 같은 의미로 다른 차원으로부터 해당 값을 유추하겠다는 뜻. temp의 원소개수(2x2=4)를 유지한채 (1, ?)의 형태를 만족해야 하므로 (1,4)를 의미\n",
    "print('------------------------')\n",
    "print(temp.view(-1, 1)) # -> (?, 1)과 같은 의미로 temp의 원소개수(2x2=4)를 유지한채 (?, 1)의 형태를 만족해야 하므로 (4,1)을 의미"
   ]
  },
  {
   "cell_type": "code",
   "execution_count": null,
   "metadata": {},
   "outputs": [],
   "source": []
  }
 ],
 "metadata": {
  "kernelspec": {
   "display_name": "Python 3.6.15 ('torch8')",
   "language": "python",
   "name": "python3"
  },
  "language_info": {
   "codemirror_mode": {
    "name": "ipython",
    "version": 3
   },
   "file_extension": ".py",
   "mimetype": "text/x-python",
   "name": "python",
   "nbconvert_exporter": "python",
   "pygments_lexer": "ipython3",
   "version": "3.6.15"
  },
  "orig_nbformat": 4,
  "vscode": {
   "interpreter": {
    "hash": "73870d9e7de8c541502ac13bc1d41f044a640a4f9d2b6e1bfe4ca346f904c9ec"
   }
  }
 },
 "nbformat": 4,
 "nbformat_minor": 2
}
